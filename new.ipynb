{
 "cells": [
  {
   "cell_type": "code",
   "execution_count": 1,
   "id": "fa73deda",
   "metadata": {},
   "outputs": [
    {
     "data": {
      "text/plain": [
       "['from sklearn.model_selection import KFold',\n",
       " 'from sklearn.preprocessing import StandardScaler',\n",
       " 'import altair as alt',\n",
       " 'import plotly as py',\n",
       " 'import seaborn as sns',\n",
       " 'import fastai',\n",
       " 'import bokeh',\n",
       " 'from sklearn.model_selection import train_test_split',\n",
       " 'from sklearn.ensemble import RandomForestClassifier',\n",
       " 'from sklearn.preprocessing import PolynomialFeatures',\n",
       " 'from sklearn.linear_model import RidgeCV',\n",
       " 'import os',\n",
       " 'from sklearn.decomposition import PCA',\n",
       " 'from sklearn.cluster import KMeans',\n",
       " 'import fbprophet',\n",
       " 'from sklearn.linear_model import LassoCV',\n",
       " 'import matplotlib.pyplot as plt',\n",
       " 'from sklearn.preprocessing import RobustScaler',\n",
       " 'from sklearn.linear_model import ElasticNetCV',\n",
       " 'from sklearn.model_selection import GridSearchCV',\n",
       " 'import nltk',\n",
       " 'import awswrangler as wr',\n",
       " 'import datetime as dt',\n",
       " 'import plotly.express as px',\n",
       " 'import tensorflow as tf',\n",
       " 'from sklearn.model_selection import cross_val_score',\n",
       " 'from sklearn.linear_model import LinearRegression',\n",
       " 'import tqdm',\n",
       " 'import dash',\n",
       " 'import matplotlib as mpl',\n",
       " 'from sklearn.feature_extraction.text import TfidfVectorizer',\n",
       " 'import pandas as pd',\n",
       " 'import torch',\n",
       " 'from sklearn.ensemble import RandomForestRegressor',\n",
       " 'import gensim',\n",
       " 'from pathlib import Path',\n",
       " 'from sklearn.linear_model import Lasso',\n",
       " 'import spacy',\n",
       " 'import pickle',\n",
       " 'import statistics',\n",
       " 'import skimage',\n",
       " 'from scipy import stats',\n",
       " 'import pydot',\n",
       " 'from sklearn.preprocessing import LabelEncoder',\n",
       " 'import keras',\n",
       " 'from sklearn.preprocessing import OneHotEncoder',\n",
       " 'import textblob',\n",
       " 'from statsmodels.tsa.arima_model import ARIMA',\n",
       " 'from sklearn.linear_model import Ridge',\n",
       " 'from sklearn.model_selection import StratifiedKFold',\n",
       " 'from sklearn import metrics',\n",
       " 'import re',\n",
       " 'from scipy import signal as sg',\n",
       " 'import cv2',\n",
       " 'from xlrd import open_workbook',\n",
       " 'from dask import dataframe as dd',\n",
       " 'from sklearn.preprocessing import MinMaxScaler',\n",
       " 'import numpy as np',\n",
       " 'import random',\n",
       " 'from sklearn import svm',\n",
       " 'import sklearn',\n",
       " 'from sklearn.model_selection import RandomizedSearchCV',\n",
       " 'from sklearn.linear_model import ElasticNet',\n",
       " 'from sklearn.ensemble import GradientBoostingClassifier',\n",
       " 'from sklearn.ensemble import GradientBoostingRegressor',\n",
       " 'import imutils',\n",
       " 'import glob',\n",
       " 'from fbprophet import Prophet',\n",
       " 'import plotly.graph_objs as go',\n",
       " 'from pyspark import SparkContext',\n",
       " 'from openpyxl import load_workbook',\n",
       " 'from sklearn.manifold import TSNE',\n",
       " 'from PIL import Image',\n",
       " 'import lightgbm as lgb',\n",
       " 'import xgboost as xgb',\n",
       " 'import sys',\n",
       " 'from sklearn.linear_model import LogisticRegression',\n",
       " 'from sklearn.impute import SimpleImputer',\n",
       " 'from sklearn.feature_extraction.text import CountVectorizer',\n",
       " 'import statsmodels.api as sm']"
      ]
     },
     "execution_count": 1,
     "metadata": {},
     "output_type": "execute_result"
    }
   ],
   "source": [
    "import pyforest\n",
    "\n",
    "pyforest.lazy_imports()"
   ]
  },
  {
   "cell_type": "code",
   "execution_count": 3,
   "id": "d85c4c77",
   "metadata": {},
   "outputs": [],
   "source": [
    "import pandas as pd"
   ]
  },
  {
   "cell_type": "code",
   "execution_count": null,
   "id": "9b03bec2",
   "metadata": {},
   "outputs": [],
   "source": []
  }
 ],
 "metadata": {
  "kernelspec": {
   "display_name": "ML",
   "language": "python",
   "name": "python3"
  },
  "language_info": {
   "codemirror_mode": {
    "name": "ipython",
    "version": 3
   },
   "file_extension": ".py",
   "mimetype": "text/x-python",
   "name": "python",
   "nbconvert_exporter": "python",
   "pygments_lexer": "ipython3",
   "version": "3.12.7"
  }
 },
 "nbformat": 4,
 "nbformat_minor": 5
}
